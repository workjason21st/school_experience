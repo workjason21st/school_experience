{
 "cells": [
  {
   "cell_type": "code",
   "execution_count": 1,
   "id": "27d98a9c",
   "metadata": {},
   "outputs": [
    {
     "name": "stdout",
     "output_type": "stream",
     "text": [
      "題目: ACBCACCACBACCCACBACC\n",
      "LZ78 壓縮結果: [(0, 'A'), (0, 'C'), (0, 'B'), (2, 'A'), (2, 'C'), (1, 'C'), (3, 'A'), (5, 'C'), (6, 'B'), (6, 'C')]\n",
      "LZ78 解壓縮結果: ACBCACCACBACCCACBACC\n"
     ]
    }
   ],
   "source": [
    "#LZ78壓縮\n",
    "def lz78_encode(input):\n",
    "    #創建一個字典用於保存字串及對應索引\n",
    "    dictionary = {}\n",
    "    #創建一個列表用於保存壓縮後的串列資料\n",
    "    output_data = []\n",
    "    #創建一個字串作為當前正在處理的字串\n",
    "    current_string = \"\"\n",
    "    #字典大小初始為 1\n",
    "    dict_size = 1\n",
    "    \n",
    "    #迭代輸入字串中的每個字符\n",
    "    for char in input:\n",
    "        #如果current_string加上當前字符在字典中，將更新current_string\n",
    "        if current_string + char in dictionary:\n",
    "            current_string += char\n",
    "        else:\n",
    "            #如果當前字串不為空\n",
    "            #將current_string對應的字典索引和當前字符組合成一對，添加到 output_data 中\n",
    "            if current_string:\n",
    "                output_data.append((dictionary[current_string], char))\n",
    "            #如果當前字串為空\n",
    "            #則添加 (0, 當前字符) 到 output_data 中\n",
    "            else:\n",
    "                output_data.append((0, char))\n",
    "            #將current_string加上當前字符的組合添加到字典中，並給予新的索引\n",
    "            dictionary[current_string + char] = dict_size\n",
    "            #更新字典大小\n",
    "            dict_size += 1\n",
    "            #重置current_string\n",
    "            current_string = \"\"\n",
    "    \n",
    "    #如果當前字串不為空，則添加最後一個\n",
    "    if current_string:\n",
    "        output_data.append((dictionary[current_string], \"\"))\n",
    "    \n",
    "    #返回壓縮後的串列資料\n",
    "    return output_data\n",
    "\n",
    "#LZ78解壓縮\n",
    "def lz78_decode(input_data):\n",
    "    #初始化字典，並將 0 對應空字串\n",
    "    dictionary = {0: \"\"}\n",
    "    #初始化當前字串為空\n",
    "    current_string = \"\"\n",
    "    #創建一個字串用於存儲解壓縮後的結果\n",
    "    result = \"\"\n",
    "    #字典大小初始為 1\n",
    "    dict_size = 1\n",
    "    \n",
    "    #迭代輸入串列資料中的每筆資料\n",
    "    for index, char in input_data:\n",
    "        #根據索引從字典中獲取對應的字串，並加上當前字符\n",
    "        current_string = dictionary[index] + char\n",
    "        #將current_string添加到結果字串中\n",
    "        result += current_string\n",
    "        #將current_string添加到字典中，並給予新的索引\n",
    "        dictionary[dict_size] = current_string\n",
    "        #更新字典大小\n",
    "        dict_size += 1\n",
    "    \n",
    "    #返回解壓縮後的字串\n",
    "    return result\n",
    "\n",
    "#題目\n",
    "input = \"ACBCACCACBACCCACBACC\"\n",
    "#執行LZ78\n",
    "encoded_text = lz78_encode(input)\n",
    "decoded_text = lz78_decode(encoded_text)\n",
    "\n",
    "#輸出\n",
    "print(\"題目:\", input)\n",
    "print(\"LZ78 壓縮結果:\", encoded_text)\n",
    "print(\"LZ78 解壓縮結果:\", decoded_text)\n"
   ]
  },
  {
   "cell_type": "code",
   "execution_count": null,
   "id": "74f52bcb",
   "metadata": {},
   "outputs": [],
   "source": []
  }
 ],
 "metadata": {
  "kernelspec": {
   "display_name": "Python 3 (ipykernel)",
   "language": "python",
   "name": "python3"
  },
  "language_info": {
   "codemirror_mode": {
    "name": "ipython",
    "version": 3
   },
   "file_extension": ".py",
   "mimetype": "text/x-python",
   "name": "python",
   "nbconvert_exporter": "python",
   "pygments_lexer": "ipython3",
   "version": "3.9.12"
  }
 },
 "nbformat": 4,
 "nbformat_minor": 5
}
